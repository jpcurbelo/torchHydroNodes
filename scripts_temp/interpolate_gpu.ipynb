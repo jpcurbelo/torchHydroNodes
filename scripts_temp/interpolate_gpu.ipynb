{
 "cells": [
  {
   "cell_type": "code",
   "execution_count": 27,
   "metadata": {},
   "outputs": [],
   "source": [
    "import torch\n",
    "\n",
    "device = 'cuda:1'  # 'cuda:0' or 'cpu'\n",
    "\n",
    "DEVICE = torch.device(device)\n"
   ]
  },
  {
   "cell_type": "markdown",
   "metadata": {},
   "source": [
    "# Classes and functions"
   ]
  },
  {
   "cell_type": "markdown",
   "metadata": {},
   "source": []
  },
  {
   "cell_type": "code",
   "execution_count": 28,
   "metadata": {},
   "outputs": [],
   "source": [
    "class ExpHydroCommon:\n",
    "\n",
    "    def __init__(self):\n",
    "        pass\n",
    "        \n",
    "    def interpolate(self, time_series, interpolator):\n",
    "        time_series_torch, var_values_torch = interpolator\n",
    "        print('time_series_torch.device', time_series_torch.device)\n",
    "        time_series_torch = time_series_torch.to(DEVICE)\n",
    "        print('time_series_torch.device', time_series_torch.device)\n",
    "        var_values_torch = var_values_torch.to(DEVICE)\n",
    "        time_series = time_series.to(DEVICE)\n",
    "\n",
    "        return self.linear_interpolation(time_series, time_series_torch, var_values_torch)\n",
    "\n",
    "    @staticmethod\n",
    "    def linear_interpolation(x, xp, fp):\n",
    "        \"\"\"\n",
    "        Perform linear interpolation on a 1D torch tensor.\n",
    "\n",
    "        Parameters:\n",
    "        x (torch.Tensor): The x-coordinates at which to evaluate the interpolated values.\n",
    "        xp (torch.Tensor): The x-coordinates of the data points, must be increasing.\n",
    "        fp (torch.Tensor): The y-coordinates of the data points, same length as xp.\n",
    "\n",
    "        Returns:\n",
    "        torch.Tensor: The interpolated values, same shape as x.\n",
    "        \"\"\"\n",
    "        slopes = (fp[1:] - fp[:-1]) / (xp[1:] - xp[:-1])\n",
    "        indices = torch.searchsorted(xp, x, right=True) - 1\n",
    "        indices = indices.clamp(0, len(slopes) - 1)\n",
    "\n",
    "        return fp[indices] + slopes[indices] * (x - xp[indices])"
   ]
  },
  {
   "cell_type": "markdown",
   "metadata": {},
   "source": [
    "# Define and prepare data"
   ]
  },
  {
   "cell_type": "code",
   "execution_count": 29,
   "metadata": {},
   "outputs": [],
   "source": [
    "# Create an instance of ExpHydroCommon\n",
    "exp_hydro_common = ExpHydroCommon()\n",
    "\n",
    "# Define interpolator\n",
    "time_series_torch = torch.tensor([0, 1, 2, 3, 4], dtype=torch.float32).to(DEVICE)\n",
    "var_values_torch = torch.tensor([0, 1, 4, 9, 16], dtype=torch.float32).to(DEVICE)\n",
    "interpolator = (time_series_torch, var_values_torch)\n",
    "\n",
    "# Define time_series to interpolate\n",
    "time_series = torch.tensor([0.5, 0.95, 1.05, 1.5, 1.95, 2.05, 2.5, 2.95, 3.05, 3.5, 3.95, 4.05], dtype=torch.float32).to(DEVICE)"
   ]
  },
  {
   "cell_type": "markdown",
   "metadata": {},
   "source": [
    "# Results"
   ]
  },
  {
   "cell_type": "code",
   "execution_count": 30,
   "metadata": {},
   "outputs": [
    {
     "name": "stdout",
     "output_type": "stream",
     "text": [
      "time_series_torch.device cuda:1\n",
      "time_series_torch.device cuda:1\n",
      "tensor([ 0.5000,  0.9500,  1.1500,  2.5000,  3.8500,  4.2500,  6.5000,  8.7500,\n",
      "         9.3500, 12.5000, 15.6500, 16.3500], device='cuda:1')\n"
     ]
    }
   ],
   "source": [
    "# Perform interpolation\n",
    "result = exp_hydro_common.interpolate(time_series, interpolator)\n",
    "print(result)"
   ]
  }
 ],
 "metadata": {
  "kernelspec": {
   "display_name": "venv-hydronodes",
   "language": "python",
   "name": "python3"
  },
  "language_info": {
   "codemirror_mode": {
    "name": "ipython",
    "version": 3
   },
   "file_extension": ".py",
   "mimetype": "text/x-python",
   "name": "python",
   "nbconvert_exporter": "python",
   "pygments_lexer": "ipython3",
   "version": "3.12.3"
  }
 },
 "nbformat": 4,
 "nbformat_minor": 2
}
