{
 "cells": [
  {
   "cell_type": "markdown",
   "metadata": {},
   "source": [
    "# Imports"
   ]
  },
  {
   "cell_type": "code",
   "execution_count": 18,
   "metadata": {},
   "outputs": [],
   "source": [
    "import os\n",
    "from PIL import Image\n",
    "from utils import load_results_path\n",
    "from pathlib import Path\n",
    "\n",
    "IMG_FOLDER_PATH = '../../examples/runs/ZZ1basin_hybrid_mlp_32x5_7304b_nse_bosh3_01013500_240813_195006_ok'\n",
    "\n",
    "BASIN_ID = '01013500'\n",
    "\n",
    "\n",
    "GIF_OUTPUT_NAME = IMG_FOLDER_PATH.split('/')[-1]\n",
    "GIF_FOLDER= 'gifs'\n",
    "if not os.path.exists(GIF_FOLDER):\n",
    "    os.makedirs(GIF_FOLDER)"
   ]
  },
  {
   "cell_type": "markdown",
   "metadata": {},
   "source": [
    "# Define paths"
   ]
  },
  {
   "cell_type": "code",
   "execution_count": 19,
   "metadata": {},
   "outputs": [],
   "source": [
    "results_folder = Path(IMG_FOLDER_PATH)\n",
    "periods = ['train', 'valid']\n",
    "results_path = load_results_path(results_folder, periods)"
   ]
  },
  {
   "cell_type": "code",
   "execution_count": 20,
   "metadata": {},
   "outputs": [
    {
     "data": {
      "text/plain": [
       "PosixPath('../../examples/runs/ZZ1basin_hybrid_mlp_32x5_7304b_nse_bosh3_01013500_240813_195006_ok/model_metrics')"
      ]
     },
     "execution_count": 20,
     "metadata": {},
     "output_type": "execute_result"
    }
   ],
   "source": [
    "results_path"
   ]
  },
  {
   "cell_type": "markdown",
   "metadata": {},
   "source": [
    "# Functions"
   ]
  },
  {
   "cell_type": "code",
   "execution_count": 21,
   "metadata": {},
   "outputs": [],
   "source": [
    "def create_gif(folder_path, period):\n",
    "    images = []\n",
    "\n",
    "    folder_path = Path(folder_path) / 'model_plots' / BASIN_ID\n",
    "    \n",
    "    list_of_files = sorted(os.listdir(folder_path))\n",
    "    list_of_files = [filename for filename in list_of_files if period in filename]\n",
    "\n",
    "    print(period)\n",
    "    print(list_of_files)\n",
    "    \n",
    "    output_file = IMG_FOLDER_PATH.split('/')[-1]\n",
    "    output_file = os.path.join(GIF_FOLDER, output_file + f'_{period}'+ \".gif\")\n",
    "\n",
    "    # Iterate over all files in the folder\n",
    "    for filename in list_of_files:\n",
    "        if filename.endswith(\".png\") or filename.endswith(\".jpg\"):\n",
    "            # Open each image and append it to the list\n",
    "            filepath = folder_path / filename\n",
    "            images.append(Image.open(filepath))\n",
    "    \n",
    "    # Save the list of images as a GIF\n",
    "    images[0].save(output_file, save_all=True, append_images=images[1:], loop=2, duration=1000)"
   ]
  },
  {
   "cell_type": "markdown",
   "metadata": {},
   "source": [
    "# Create GIFs"
   ]
  },
  {
   "cell_type": "code",
   "execution_count": 22,
   "metadata": {},
   "outputs": [
    {
     "name": "stdout",
     "output_type": "stream",
     "text": [
      "train\n",
      "['obs_runoff_01013500_train_epoch0.png', 'obs_runoff_01013500_train_epoch1.png', 'obs_runoff_01013500_train_epoch10.png', 'obs_runoff_01013500_train_epoch20.png', 'obs_runoff_01013500_train_epoch30.png', 'obs_runoff_01013500_train_epoch40.png', 'obs_runoff_01013500_train_epoch50.png', 'obs_runoff_01013500_train_epoch60.png', 'obs_runoff_01013500_train_epoch70.png', 'obs_runoff_01013500_train_epoch80.png', 'obs_runoff_01013500_train_epoch90.png', 'obs_runoff_01013500_train_epoch99.png']\n",
      "valid\n",
      "['obs_runoff_01013500_valid_epoch0.png', 'obs_runoff_01013500_valid_epoch1.png', 'obs_runoff_01013500_valid_epoch10.png', 'obs_runoff_01013500_valid_epoch20.png', 'obs_runoff_01013500_valid_epoch30.png', 'obs_runoff_01013500_valid_epoch40.png', 'obs_runoff_01013500_valid_epoch50.png', 'obs_runoff_01013500_valid_epoch60.png', 'obs_runoff_01013500_valid_epoch70.png', 'obs_runoff_01013500_valid_epoch80.png', 'obs_runoff_01013500_valid_epoch90.png', 'obs_runoff_01013500_valid_epoch99.png']\n"
     ]
    }
   ],
   "source": [
    "for period in periods:\n",
    "    create_gif(IMG_FOLDER_PATH, period)"
   ]
  }
 ],
 "metadata": {
  "kernelspec": {
   "display_name": "venv-hydronodes",
   "language": "python",
   "name": "python3"
  },
  "language_info": {
   "codemirror_mode": {
    "name": "ipython",
    "version": 3
   },
   "file_extension": ".py",
   "mimetype": "text/x-python",
   "name": "python",
   "nbconvert_exporter": "python",
   "pygments_lexer": "ipython3",
   "version": "3.12.3"
  }
 },
 "nbformat": 4,
 "nbformat_minor": 2
}
