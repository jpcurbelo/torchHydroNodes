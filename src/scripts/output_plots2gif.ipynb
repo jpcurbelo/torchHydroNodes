{
 "cells": [
  {
   "cell_type": "markdown",
   "metadata": {},
   "source": [
    "# Imports"
   ]
  },
  {
   "cell_type": "code",
   "execution_count": 16,
   "metadata": {},
   "outputs": [],
   "source": [
    "import os\n",
    "from PIL import Image\n",
    "from utils import load_results_path\n",
    "from pathlib import Path\n",
    "import re\n",
    "\n",
    "# IMG_FOLDER_PATH = '../../examples/runs/ZZ1basin_hybrid_mlp_32x5_7304b_nse_bosh3_01013500_240813_195006_ok'\n",
    "# IMG_FOLDER_PATH = '../../examples/runs/_AAAA_1basin_hybrid_mlp_32x5_256b_euler1d_lr4_400ep_500pre_06431500_240828_131832'\n",
    "IMG_FOLDER_PATH = '../../examples/runs/_AAAA_1basin_hybrid_mlp_32x5_256b_euler1d_lr4_400ep_500pre_06431500_240828_131832_best'\n",
    "# IMG_FOLDER_PATH = '../../examples/runs/_AAAA_1basin_hybrid_mlp_32x5_512b_euler1d_lr4_100ep_01013500_240828_114134_best'\n",
    "\n",
    "# BASIN_ID = '01013500'\n",
    "BASIN_ID = '06431500'\n",
    "\n",
    "\n",
    "GIF_OUTPUT_NAME = IMG_FOLDER_PATH.split('/')[-1]\n",
    "GIF_FOLDER= 'gifs'\n",
    "if not os.path.exists(GIF_FOLDER):\n",
    "    os.makedirs(GIF_FOLDER)"
   ]
  },
  {
   "cell_type": "markdown",
   "metadata": {},
   "source": [
    "# Define paths"
   ]
  },
  {
   "cell_type": "code",
   "execution_count": 17,
   "metadata": {},
   "outputs": [],
   "source": [
    "results_folder = Path(IMG_FOLDER_PATH)\n",
    "periods = ['train', 'valid']\n",
    "results_path = load_results_path(results_folder, periods)"
   ]
  },
  {
   "cell_type": "code",
   "execution_count": 18,
   "metadata": {},
   "outputs": [
    {
     "data": {
      "text/plain": [
       "(PosixPath('../../examples/runs/_AAAA_1basin_hybrid_mlp_32x5_256b_euler1d_lr4_400ep_500pre_06431500_240828_131832_best/model_metrics'),\n",
       " PosixPath('../../examples/runs/_AAAA_1basin_hybrid_mlp_32x5_256b_euler1d_lr4_400ep_500pre_06431500_240828_131832_best'))"
      ]
     },
     "execution_count": 18,
     "metadata": {},
     "output_type": "execute_result"
    }
   ],
   "source": [
    "results_path"
   ]
  },
  {
   "cell_type": "markdown",
   "metadata": {},
   "source": [
    "# Functions"
   ]
  },
  {
   "cell_type": "code",
   "execution_count": 19,
   "metadata": {},
   "outputs": [],
   "source": [
    "def extract_epoch_number(filename):\n",
    "    # This function uses a regular expression to find the epoch number in the filename\n",
    "    match = re.search(r'_epoch(\\d+)\\.', filename)\n",
    "    if match:\n",
    "        return int(match.group(1))\n",
    "    return -1\n",
    "\n",
    "\n",
    "def create_gif(folder_path, period):\n",
    "    images = []\n",
    "\n",
    "    folder_path = Path(folder_path) / 'model_plots' / BASIN_ID\n",
    "    \n",
    "    list_of_files = sorted(os.listdir(folder_path))\n",
    "    print(list_of_files)\n",
    "    list_of_files = [filename for filename in list_of_files if period in filename and 'epoch' in filename]\n",
    "\n",
    "    # Sort the files based on the epoch number\n",
    "    list_of_files.sort(key=extract_epoch_number)\n",
    "\n",
    "    print(period)\n",
    "    print(list_of_files)\n",
    "    \n",
    "    output_file = IMG_FOLDER_PATH.split('/')[-1]\n",
    "    output_file = os.path.join(GIF_FOLDER, output_file + f'_{period}'+ \".gif\")\n",
    "\n",
    "    # Iterate over all files in the folder\n",
    "    for filename in list_of_files:\n",
    "        if filename.endswith(\".png\") or filename.endswith(\".jpg\"):\n",
    "            # Open each image and append it to the list\n",
    "            filepath = folder_path / filename\n",
    "            images.append(Image.open(filepath))\n",
    "    \n",
    "    # Save the list of images as a GIF\n",
    "    images[0].save(output_file, save_all=True, append_images=images[1:], loop=2, duration=1000)"
   ]
  },
  {
   "cell_type": "markdown",
   "metadata": {},
   "source": [
    "# Create GIFs"
   ]
  },
  {
   "cell_type": "code",
   "execution_count": 20,
   "metadata": {},
   "outputs": [
    {
     "name": "stdout",
     "output_type": "stream",
     "text": [
      "['_et_bucket_06431500_train.png', '_et_bucket_06431500_valid.png', '_m_bucket_06431500_train.png', '_m_bucket_06431500_valid.png', '_pr_bucket_06431500_train.png', '_pr_bucket_06431500_valid.png', '_ps_bucket_06431500_train.png', '_ps_bucket_06431500_valid.png', '_q_bucket_06431500_train.png', '_q_bucket_06431500_valid.png', 'obs_runoff_06431500_train_epoch1.png', 'obs_runoff_06431500_train_epoch100.png', 'obs_runoff_06431500_train_epoch120.png', 'obs_runoff_06431500_train_epoch140.png', 'obs_runoff_06431500_train_epoch160.png', 'obs_runoff_06431500_train_epoch180.png', 'obs_runoff_06431500_train_epoch20.png', 'obs_runoff_06431500_train_epoch200.png', 'obs_runoff_06431500_train_epoch220.png', 'obs_runoff_06431500_train_epoch240.png', 'obs_runoff_06431500_train_epoch260.png', 'obs_runoff_06431500_train_epoch280.png', 'obs_runoff_06431500_train_epoch300.png', 'obs_runoff_06431500_train_epoch320.png', 'obs_runoff_06431500_train_epoch340.png', 'obs_runoff_06431500_train_epoch360.png', 'obs_runoff_06431500_train_epoch380.png', 'obs_runoff_06431500_train_epoch40.png', 'obs_runoff_06431500_train_epoch400.png', 'obs_runoff_06431500_train_epoch60.png', 'obs_runoff_06431500_train_epoch80.png', 'obs_runoff_06431500_valid_epoch1.png', 'obs_runoff_06431500_valid_epoch100.png', 'obs_runoff_06431500_valid_epoch120.png', 'obs_runoff_06431500_valid_epoch140.png', 'obs_runoff_06431500_valid_epoch160.png', 'obs_runoff_06431500_valid_epoch180.png', 'obs_runoff_06431500_valid_epoch20.png', 'obs_runoff_06431500_valid_epoch200.png', 'obs_runoff_06431500_valid_epoch220.png', 'obs_runoff_06431500_valid_epoch240.png', 'obs_runoff_06431500_valid_epoch260.png', 'obs_runoff_06431500_valid_epoch280.png', 'obs_runoff_06431500_valid_epoch300.png', 'obs_runoff_06431500_valid_epoch320.png', 'obs_runoff_06431500_valid_epoch340.png', 'obs_runoff_06431500_valid_epoch360.png', 'obs_runoff_06431500_valid_epoch380.png', 'obs_runoff_06431500_valid_epoch40.png', 'obs_runoff_06431500_valid_epoch400.png', 'obs_runoff_06431500_valid_epoch60.png', 'obs_runoff_06431500_valid_epoch80.png']\n",
      "train\n",
      "['obs_runoff_06431500_train_epoch1.png', 'obs_runoff_06431500_train_epoch20.png', 'obs_runoff_06431500_train_epoch40.png', 'obs_runoff_06431500_train_epoch60.png', 'obs_runoff_06431500_train_epoch80.png', 'obs_runoff_06431500_train_epoch100.png', 'obs_runoff_06431500_train_epoch120.png', 'obs_runoff_06431500_train_epoch140.png', 'obs_runoff_06431500_train_epoch160.png', 'obs_runoff_06431500_train_epoch180.png', 'obs_runoff_06431500_train_epoch200.png', 'obs_runoff_06431500_train_epoch220.png', 'obs_runoff_06431500_train_epoch240.png', 'obs_runoff_06431500_train_epoch260.png', 'obs_runoff_06431500_train_epoch280.png', 'obs_runoff_06431500_train_epoch300.png', 'obs_runoff_06431500_train_epoch320.png', 'obs_runoff_06431500_train_epoch340.png', 'obs_runoff_06431500_train_epoch360.png', 'obs_runoff_06431500_train_epoch380.png', 'obs_runoff_06431500_train_epoch400.png']\n",
      "['_et_bucket_06431500_train.png', '_et_bucket_06431500_valid.png', '_m_bucket_06431500_train.png', '_m_bucket_06431500_valid.png', '_pr_bucket_06431500_train.png', '_pr_bucket_06431500_valid.png', '_ps_bucket_06431500_train.png', '_ps_bucket_06431500_valid.png', '_q_bucket_06431500_train.png', '_q_bucket_06431500_valid.png', 'obs_runoff_06431500_train_epoch1.png', 'obs_runoff_06431500_train_epoch100.png', 'obs_runoff_06431500_train_epoch120.png', 'obs_runoff_06431500_train_epoch140.png', 'obs_runoff_06431500_train_epoch160.png', 'obs_runoff_06431500_train_epoch180.png', 'obs_runoff_06431500_train_epoch20.png', 'obs_runoff_06431500_train_epoch200.png', 'obs_runoff_06431500_train_epoch220.png', 'obs_runoff_06431500_train_epoch240.png', 'obs_runoff_06431500_train_epoch260.png', 'obs_runoff_06431500_train_epoch280.png', 'obs_runoff_06431500_train_epoch300.png', 'obs_runoff_06431500_train_epoch320.png', 'obs_runoff_06431500_train_epoch340.png', 'obs_runoff_06431500_train_epoch360.png', 'obs_runoff_06431500_train_epoch380.png', 'obs_runoff_06431500_train_epoch40.png', 'obs_runoff_06431500_train_epoch400.png', 'obs_runoff_06431500_train_epoch60.png', 'obs_runoff_06431500_train_epoch80.png', 'obs_runoff_06431500_valid_epoch1.png', 'obs_runoff_06431500_valid_epoch100.png', 'obs_runoff_06431500_valid_epoch120.png', 'obs_runoff_06431500_valid_epoch140.png', 'obs_runoff_06431500_valid_epoch160.png', 'obs_runoff_06431500_valid_epoch180.png', 'obs_runoff_06431500_valid_epoch20.png', 'obs_runoff_06431500_valid_epoch200.png', 'obs_runoff_06431500_valid_epoch220.png', 'obs_runoff_06431500_valid_epoch240.png', 'obs_runoff_06431500_valid_epoch260.png', 'obs_runoff_06431500_valid_epoch280.png', 'obs_runoff_06431500_valid_epoch300.png', 'obs_runoff_06431500_valid_epoch320.png', 'obs_runoff_06431500_valid_epoch340.png', 'obs_runoff_06431500_valid_epoch360.png', 'obs_runoff_06431500_valid_epoch380.png', 'obs_runoff_06431500_valid_epoch40.png', 'obs_runoff_06431500_valid_epoch400.png', 'obs_runoff_06431500_valid_epoch60.png', 'obs_runoff_06431500_valid_epoch80.png']\n",
      "valid\n",
      "['obs_runoff_06431500_valid_epoch1.png', 'obs_runoff_06431500_valid_epoch20.png', 'obs_runoff_06431500_valid_epoch40.png', 'obs_runoff_06431500_valid_epoch60.png', 'obs_runoff_06431500_valid_epoch80.png', 'obs_runoff_06431500_valid_epoch100.png', 'obs_runoff_06431500_valid_epoch120.png', 'obs_runoff_06431500_valid_epoch140.png', 'obs_runoff_06431500_valid_epoch160.png', 'obs_runoff_06431500_valid_epoch180.png', 'obs_runoff_06431500_valid_epoch200.png', 'obs_runoff_06431500_valid_epoch220.png', 'obs_runoff_06431500_valid_epoch240.png', 'obs_runoff_06431500_valid_epoch260.png', 'obs_runoff_06431500_valid_epoch280.png', 'obs_runoff_06431500_valid_epoch300.png', 'obs_runoff_06431500_valid_epoch320.png', 'obs_runoff_06431500_valid_epoch340.png', 'obs_runoff_06431500_valid_epoch360.png', 'obs_runoff_06431500_valid_epoch380.png', 'obs_runoff_06431500_valid_epoch400.png']\n"
     ]
    }
   ],
   "source": [
    "for period in periods:\n",
    "    create_gif(IMG_FOLDER_PATH, period)"
   ]
  }
 ],
 "metadata": {
  "kernelspec": {
   "display_name": "venv-hydronodes",
   "language": "python",
   "name": "python3"
  },
  "language_info": {
   "codemirror_mode": {
    "name": "ipython",
    "version": 3
   },
   "file_extension": ".py",
   "mimetype": "text/x-python",
   "name": "python",
   "nbconvert_exporter": "python",
   "pygments_lexer": "ipython3",
   "version": "3.12.3"
  }
 },
 "nbformat": 4,
 "nbformat_minor": 2
}
