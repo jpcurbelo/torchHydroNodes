{
 "cells": [
  {
   "cell_type": "markdown",
   "metadata": {},
   "source": [
    "# Imports"
   ]
  },
  {
   "cell_type": "code",
   "execution_count": 7,
   "metadata": {},
   "outputs": [
    {
     "name": "stdout",
     "output_type": "stream",
     "text": [
      "The autoreload extension is already loaded. To reload it, use:\n",
      "  %reload_ext autoreload\n"
     ]
    },
    {
     "name": "stderr",
     "output_type": "stream",
     "text": [
      "/home/ame805/torchHydroNodes/src/scripts/utils.py:245: SyntaxWarning: invalid escape sequence '\\l'\n",
      "  ax.set_title(f'{graph_title} (${metric.upper()} \\leq {th_value}$:  {n_below_threshold} counts) | {period} period')\n"
     ]
    }
   ],
   "source": [
    "# Reload modules before executing code\n",
    "%load_ext autoreload\n",
    "%autoreload 2\n",
    "\n",
    "import os\n",
    "from pathlib import Path\n",
    "import pandas as pd\n",
    "import numpy as np\n",
    "import matplotlib.pyplot as plt\n",
    "\n",
    "from utils import *\n",
    "\n",
    "# Expand the '~' to the full path of the home directory\n",
    "home_directory = os.path.expanduser('~')\n",
    "\n",
    "#######################################\n",
    "# config_file = 'config_julia_concept.yml'\n",
    "config_file = 'config_julia_hybrid_mlp32x5bosh3.yml'"
   ]
  },
  {
   "cell_type": "markdown",
   "metadata": {},
   "source": [
    "# Load config and create folders"
   ]
  },
  {
   "cell_type": "code",
   "execution_count": 8,
   "metadata": {},
   "outputs": [],
   "source": [
    "cfg = load_config(Path(config_file))\n",
    "\n",
    "results_folder = Path(cfg['results_folder'])\n",
    "periods = cfg['periods']\n",
    "metrics = cfg['metrics']\n",
    "threshold_dict = cfg['threshold_dict']\n",
    "metrics_path, results_path = load_results_path(results_folder, periods)\n",
    "plots_folder = Path(cfg['plots_folder'])\n",
    "graph_title = cfg['graph_title']"
   ]
  },
  {
   "cell_type": "markdown",
   "metadata": {},
   "source": [
    "# Plot (and compute metrics if needed)"
   ]
  },
  {
   "cell_type": "code",
   "execution_count": 9,
   "metadata": {},
   "outputs": [
    {
     "ename": "FileNotFoundError",
     "evalue": "[Errno 2] No such file or directory: '/staff/ame805/HydroNODE_fork/M100_results_569basins_1980_2010_BS3_julia_150ep_lr4/model_metrics/metrics_train.csv'",
     "output_type": "error",
     "traceback": [
      "\u001b[0;31m---------------------------------------------------------------------------\u001b[0m",
      "\u001b[0;31mFileNotFoundError\u001b[0m                         Traceback (most recent call last)",
      "Cell \u001b[0;32mIn[9], line 7\u001b[0m\n\u001b[1;32m      4\u001b[0m metric_file_path \u001b[38;5;241m=\u001b[39m metrics_path \u001b[38;5;241m/\u001b[39m \u001b[38;5;124mf\u001b[39m\u001b[38;5;124m'\u001b[39m\u001b[38;5;124mmetrics_\u001b[39m\u001b[38;5;132;01m{\u001b[39;00mperiod\u001b[38;5;132;01m}\u001b[39;00m\u001b[38;5;124m.csv\u001b[39m\u001b[38;5;124m'\u001b[39m\n\u001b[1;32m      6\u001b[0m \u001b[38;5;66;03m# Check if the file exists and is not empty\u001b[39;00m\n\u001b[0;32m----> 7\u001b[0m \u001b[38;5;28mprint\u001b[39m(period, metric_file_path\u001b[38;5;241m.\u001b[39mexists(), \u001b[43mmetric_file_path\u001b[49m\u001b[38;5;241;43m.\u001b[39;49m\u001b[43mstat\u001b[49m\u001b[43m(\u001b[49m\u001b[43m)\u001b[49m\u001b[38;5;241m.\u001b[39mst_size)\n\u001b[1;32m      8\u001b[0m \u001b[38;5;28;01mif\u001b[39;00m metric_file_path\u001b[38;5;241m.\u001b[39mexists() \u001b[38;5;129;01mand\u001b[39;00m metric_file_path\u001b[38;5;241m.\u001b[39mstat()\u001b[38;5;241m.\u001b[39mst_size \u001b[38;5;241m<\u001b[39m\u001b[38;5;241m=\u001b[39m \u001b[38;5;241m2\u001b[39m:\n\u001b[1;32m      9\u001b[0m     metric_file_path\u001b[38;5;241m.\u001b[39munlink()  \u001b[38;5;66;03m# Deletes the file\u001b[39;00m\n",
      "File \u001b[0;32m~/python3.12/lib/python3.12/pathlib.py:840\u001b[0m, in \u001b[0;36mPath.stat\u001b[0;34m(self, follow_symlinks)\u001b[0m\n\u001b[1;32m    835\u001b[0m \u001b[38;5;28;01mdef\u001b[39;00m \u001b[38;5;21mstat\u001b[39m(\u001b[38;5;28mself\u001b[39m, \u001b[38;5;241m*\u001b[39m, follow_symlinks\u001b[38;5;241m=\u001b[39m\u001b[38;5;28;01mTrue\u001b[39;00m):\n\u001b[1;32m    836\u001b[0m \u001b[38;5;250m    \u001b[39m\u001b[38;5;124;03m\"\"\"\u001b[39;00m\n\u001b[1;32m    837\u001b[0m \u001b[38;5;124;03m    Return the result of the stat() system call on this path, like\u001b[39;00m\n\u001b[1;32m    838\u001b[0m \u001b[38;5;124;03m    os.stat() does.\u001b[39;00m\n\u001b[1;32m    839\u001b[0m \u001b[38;5;124;03m    \"\"\"\u001b[39;00m\n\u001b[0;32m--> 840\u001b[0m     \u001b[38;5;28;01mreturn\u001b[39;00m \u001b[43mos\u001b[49m\u001b[38;5;241;43m.\u001b[39;49m\u001b[43mstat\u001b[49m\u001b[43m(\u001b[49m\u001b[38;5;28;43mself\u001b[39;49m\u001b[43m,\u001b[49m\u001b[43m \u001b[49m\u001b[43mfollow_symlinks\u001b[49m\u001b[38;5;241;43m=\u001b[39;49m\u001b[43mfollow_symlinks\u001b[49m\u001b[43m)\u001b[49m\n",
      "\u001b[0;31mFileNotFoundError\u001b[0m: [Errno 2] No such file or directory: '/staff/ame805/HydroNODE_fork/M100_results_569basins_1980_2010_BS3_julia_150ep_lr4/model_metrics/metrics_train.csv'"
     ]
    }
   ],
   "source": [
    "# Assuming results_path, periods, metrics, threshold_dict, and plots_folder are defined\n",
    "for period in periods:\n",
    "\n",
    "    metric_file_path = metrics_path / f'metrics_{period}.csv'\n",
    "\n",
    "    # Check if the file exists and is not empty\n",
    "    if metric_file_path.exists() and metric_file_path.stat().st_size <= 2:\n",
    "        metric_file_path.unlink()  # Deletes the file\n",
    "\n",
    "    # Check if the file exists and is not empty\n",
    "    if not metric_file_path.exists():\n",
    "        df_period = metrics_from_julia_results(metrics, period, results_path, metrics_path)\n",
    "    else:\n",
    "        df_period = pd.read_csv(metrics_path / f'metrics_{period}.csv')\n",
    "\n",
    "    for metric in metrics:\n",
    "        \n",
    "        # Plot the histograms\n",
    "        plot_metric_histogram(df_period, metric, threshold_dict, graph_title, period, plots_folder)"
   ]
  }
 ],
 "metadata": {
  "kernelspec": {
   "display_name": "venv-hydronodes",
   "language": "python",
   "name": "python3"
  },
  "language_info": {
   "codemirror_mode": {
    "name": "ipython",
    "version": 3
   },
   "file_extension": ".py",
   "mimetype": "text/x-python",
   "name": "python",
   "nbconvert_exporter": "python",
   "pygments_lexer": "ipython3",
   "version": "3.12.3"
  }
 },
 "nbformat": 4,
 "nbformat_minor": 2
}
