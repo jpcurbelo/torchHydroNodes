{
 "cells": [
  {
   "cell_type": "markdown",
   "metadata": {},
   "source": [
    "# Imports"
   ]
  },
  {
   "cell_type": "code",
   "execution_count": 131,
   "metadata": {},
   "outputs": [
    {
     "name": "stdout",
     "output_type": "stream",
     "text": [
      "The autoreload extension is already loaded. To reload it, use:\n",
      "  %reload_ext autoreload\n",
      "/home/ame805/torchHydroNodes\n"
     ]
    }
   ],
   "source": [
    "%load_ext autoreload\n",
    "%autoreload 2\n",
    "\n",
    "import sys\n",
    "from pathlib import Path\n",
    "from tqdm import tqdm\n",
    "from collections import OrderedDict\n",
    "\n",
    "import torch\n",
    "import torch.nn as nn\n",
    "import torch.optim as optim\n",
    "\n",
    "# Get the current working directory\n",
    "current_dir = Path.cwd()\n",
    "\n",
    "# Make sure code directory is in path,\n",
    "# Add the parent directory of your project to the Python path\n",
    "project_dir = str(current_dir.parent.parent.parent)\n",
    "print(project_dir)\n",
    "sys.path.append(project_dir)\n",
    "\n",
    "from src.thn_run import (\n",
    "    _load_cfg_and_ds,\n",
    "    get_basin_interpolators,\n",
    "    get_calibration_dataset,\n",
    ")\n",
    "\n",
    "from src.modelzoo_concept import get_concept_model"
   ]
  },
  {
   "cell_type": "markdown",
   "metadata": {},
   "source": [
    "# Constants"
   ]
  },
  {
   "cell_type": "code",
   "execution_count": 132,
   "metadata": {},
   "outputs": [],
   "source": [
    "cfg_file = \"examples/config_run_calibrate_test.yml\"\n",
    "input_vars = ['prcp', 'tmean', 'dayl']\n",
    "output_vars = ['obs_runoff']\n",
    "\n",
    "HIDDEN_LAYERS = [64, 64]\n",
    "\n",
    "LR = 1e-3\n",
    "EPOCHS = 50"
   ]
  },
  {
   "cell_type": "markdown",
   "metadata": {},
   "source": [
    "# Classes and functions"
   ]
  },
  {
   "cell_type": "code",
   "execution_count": 133,
   "metadata": {},
   "outputs": [],
   "source": [
    "class HydrologyPINN(nn.Module):\n",
    "    \"\"\"\n",
    "    A PyTorch neural network model for hydrology-based physics-informed neural networks (PINNs).\n",
    "    \"\"\"\n",
    "\n",
    "    def __init__(self, input_size, output_size, \n",
    "                 hidden_layers=HIDDEN_LAYERS, params_bounds=None):\n",
    "        \"\"\"\n",
    "        Initialize the neural network with variable hidden layers.\n",
    "        \n",
    "        Args:\n",
    "            input_size (int): The number of input features.\n",
    "            output_size (int): The number of output features.\n",
    "            hidden_layers (list of int): A list where each element represents the number of neurons in each hidden layer.\n",
    "            params_bounds (list of tuples): A list of tuples where each tuple represents the lower and upper bounds for each parameter\n",
    "        \"\"\"\n",
    "        super(HydrologyPINN, self).__init__()\n",
    "        \n",
    "        # Set up the neural network layers\n",
    "        layers = [nn.Linear(input_size, hidden_layers[0]), nn.Tanh()]\n",
    "        \n",
    "        # Add hidden layers\n",
    "        for i in range(1, len(hidden_layers)):\n",
    "            layers.append(nn.Linear(hidden_layers[i-1], hidden_layers[i]))\n",
    "            layers.append(nn.Tanh())\n",
    "        \n",
    "        # Add output layer\n",
    "        layers.append(nn.Linear(hidden_layers[-1], output_size))\n",
    "        self.network = nn.Sequential(*layers)\n",
    "        \n",
    "        # Now initialize parameters with the same order guaranteed\n",
    "        self.params = nn.ParameterDict(OrderedDict({\n",
    "            name: nn.Parameter(\n",
    "                torch.Tensor(1).uniform_(bounds[0], bounds[1]), requires_grad=True\n",
    "            ) for name, bounds in params_bounds.items()\n",
    "        }))\n",
    "        self.params_bounds = params_bounds  # Store bounds for clamping\n",
    "\n",
    "    def forward(self, x):\n",
    "        return self.network(x)\n",
    "\n",
    "    def get_clamped_params(self):\n",
    "        \"\"\"\n",
    "        Return parameters clamped within their bounds.\n",
    "        \"\"\"\n",
    "        return {name: torch.clamp(param, *self.params_bounds[name]) for name, param in self.params.items()}\n",
    "\n",
    "    \n",
    "# Define the data loss and physics-based loss functions\n",
    "def data_loss(predicted, observed):\n",
    "\n",
    "    return nn.MSELoss()(predicted, observed)\n",
    "\n",
    "def physics_loss(model, basin, predicted_params, observed):\n",
    "\n",
    "    # Calculate terms based on your differential equations (requires details of ds/dt, etc.)\n",
    "    simulated = model.run(basin, basin_params=predicted_params, use_grad=True)\n",
    "    physics_penalty = simulated[-1] - observed\n",
    "\n",
    "    return torch.mean(physics_penalty ** 2)\n",
    "\n",
    "# Combine losses for the PINNs approach\n",
    "def pinn_loss(predicted, observed, predicted_params, model, basin):\n",
    "\n",
    "    return data_loss(predicted, observed) + physics_loss(model, basin, predicted_params, observed)"
   ]
  },
  {
   "cell_type": "markdown",
   "metadata": {},
   "source": [
    "# Load and prepare data"
   ]
  },
  {
   "cell_type": "code",
   "execution_count": 134,
   "metadata": {},
   "outputs": [
    {
     "name": "stdout",
     "output_type": "stream",
     "text": [
      "-- Loading the config file and the dataset\n",
      "-- Using device: cuda:0 --\n",
      "Setting seed for reproducibility: 1111\n",
      "-- Loading basin dynamics into xarray data set.\n",
      "100%|██████████| 4/4 [00:00<00:00, 12.09it/s]\n"
     ]
    }
   ],
   "source": [
    "cfg, dataset = _load_cfg_and_ds(Path(project_dir) / cfg_file, model='conceptual')\n",
    "\n",
    "# Get the basin interpolators\n",
    "interpolators = get_basin_interpolators(dataset, cfg, project_dir)"
   ]
  },
  {
   "cell_type": "markdown",
   "metadata": {},
   "source": [
    "# Loop over basins"
   ]
  },
  {
   "cell_type": "code",
   "execution_count": null,
   "metadata": {},
   "outputs": [
    {
     "name": "stdout",
     "output_type": "stream",
     "text": [
      "Epoch 1/50, Loss: 969.2459106445312\n"
     ]
    },
    {
     "name": "stderr",
     "output_type": "stream",
     "text": [
      "/home/ame805/torchHydroNodes/src/modelzoo_concept/exphydro.py:243: UserWarning: To copy construct from a tensor, it is recommended to use sourceTensor.clone().detach() or sourceTensor.clone().detach().requires_grad_(True), rather than torch.tensor(sourceTensor).\n",
      "  \n"
     ]
    },
    {
     "name": "stdout",
     "output_type": "stream",
     "text": [
      "Epoch 2/50, Loss: 968.2750854492188\n"
     ]
    },
    {
     "name": "stderr",
     "output_type": "stream",
     "text": [
      "/home/ame805/torchHydroNodes/src/modelzoo_concept/exphydro.py:243: UserWarning: To copy construct from a tensor, it is recommended to use sourceTensor.clone().detach() or sourceTensor.clone().detach().requires_grad_(True), rather than torch.tensor(sourceTensor).\n",
      "  \n"
     ]
    },
    {
     "name": "stdout",
     "output_type": "stream",
     "text": [
      "Epoch 3/50, Loss: 967.3612670898438\n"
     ]
    },
    {
     "name": "stderr",
     "output_type": "stream",
     "text": [
      "/home/ame805/torchHydroNodes/src/modelzoo_concept/exphydro.py:243: UserWarning: To copy construct from a tensor, it is recommended to use sourceTensor.clone().detach() or sourceTensor.clone().detach().requires_grad_(True), rather than torch.tensor(sourceTensor).\n",
      "  \n"
     ]
    },
    {
     "name": "stdout",
     "output_type": "stream",
     "text": [
      "Epoch 4/50, Loss: 966.5269775390625\n"
     ]
    },
    {
     "name": "stderr",
     "output_type": "stream",
     "text": [
      "/home/ame805/torchHydroNodes/src/modelzoo_concept/exphydro.py:243: UserWarning: To copy construct from a tensor, it is recommended to use sourceTensor.clone().detach() or sourceTensor.clone().detach().requires_grad_(True), rather than torch.tensor(sourceTensor).\n",
      "  \n"
     ]
    },
    {
     "name": "stdout",
     "output_type": "stream",
     "text": [
      "Epoch 5/50, Loss: 965.4683837890625\n"
     ]
    },
    {
     "name": "stderr",
     "output_type": "stream",
     "text": [
      "/home/ame805/torchHydroNodes/src/modelzoo_concept/exphydro.py:243: UserWarning: To copy construct from a tensor, it is recommended to use sourceTensor.clone().detach() or sourceTensor.clone().detach().requires_grad_(True), rather than torch.tensor(sourceTensor).\n",
      "  \n"
     ]
    },
    {
     "name": "stdout",
     "output_type": "stream",
     "text": [
      "Epoch 6/50, Loss: 964.280029296875\n"
     ]
    },
    {
     "name": "stderr",
     "output_type": "stream",
     "text": [
      "/home/ame805/torchHydroNodes/src/modelzoo_concept/exphydro.py:243: UserWarning: To copy construct from a tensor, it is recommended to use sourceTensor.clone().detach() or sourceTensor.clone().detach().requires_grad_(True), rather than torch.tensor(sourceTensor).\n",
      "  \n"
     ]
    },
    {
     "name": "stdout",
     "output_type": "stream",
     "text": [
      "Epoch 7/50, Loss: 963.1788330078125\n"
     ]
    },
    {
     "name": "stderr",
     "output_type": "stream",
     "text": [
      "/home/ame805/torchHydroNodes/src/modelzoo_concept/exphydro.py:243: UserWarning: To copy construct from a tensor, it is recommended to use sourceTensor.clone().detach() or sourceTensor.clone().detach().requires_grad_(True), rather than torch.tensor(sourceTensor).\n",
      "  \n"
     ]
    },
    {
     "name": "stdout",
     "output_type": "stream",
     "text": [
      "Epoch 8/50, Loss: 962.1548461914062\n"
     ]
    },
    {
     "name": "stderr",
     "output_type": "stream",
     "text": [
      "/home/ame805/torchHydroNodes/src/modelzoo_concept/exphydro.py:243: UserWarning: To copy construct from a tensor, it is recommended to use sourceTensor.clone().detach() or sourceTensor.clone().detach().requires_grad_(True), rather than torch.tensor(sourceTensor).\n",
      "  \n"
     ]
    },
    {
     "name": "stdout",
     "output_type": "stream",
     "text": [
      "Epoch 9/50, Loss: 961.211181640625\n"
     ]
    },
    {
     "name": "stderr",
     "output_type": "stream",
     "text": [
      "/home/ame805/torchHydroNodes/src/modelzoo_concept/exphydro.py:243: UserWarning: To copy construct from a tensor, it is recommended to use sourceTensor.clone().detach() or sourceTensor.clone().detach().requires_grad_(True), rather than torch.tensor(sourceTensor).\n",
      "  \n"
     ]
    },
    {
     "name": "stdout",
     "output_type": "stream",
     "text": [
      "Epoch 10/50, Loss: 960.3460693359375\n"
     ]
    },
    {
     "name": "stderr",
     "output_type": "stream",
     "text": [
      "/home/ame805/torchHydroNodes/src/modelzoo_concept/exphydro.py:243: UserWarning: To copy construct from a tensor, it is recommended to use sourceTensor.clone().detach() or sourceTensor.clone().detach().requires_grad_(True), rather than torch.tensor(sourceTensor).\n",
      "  \n"
     ]
    },
    {
     "name": "stdout",
     "output_type": "stream",
     "text": [
      "Epoch 11/50, Loss: 959.5568237304688\n"
     ]
    },
    {
     "name": "stderr",
     "output_type": "stream",
     "text": [
      "/home/ame805/torchHydroNodes/src/modelzoo_concept/exphydro.py:243: UserWarning: To copy construct from a tensor, it is recommended to use sourceTensor.clone().detach() or sourceTensor.clone().detach().requires_grad_(True), rather than torch.tensor(sourceTensor).\n",
      "  \n"
     ]
    },
    {
     "name": "stdout",
     "output_type": "stream",
     "text": [
      "Epoch 12/50, Loss: 958.8379516601562\n"
     ]
    },
    {
     "name": "stderr",
     "output_type": "stream",
     "text": [
      "/home/ame805/torchHydroNodes/src/modelzoo_concept/exphydro.py:243: UserWarning: To copy construct from a tensor, it is recommended to use sourceTensor.clone().detach() or sourceTensor.clone().detach().requires_grad_(True), rather than torch.tensor(sourceTensor).\n",
      "  \n"
     ]
    },
    {
     "name": "stdout",
     "output_type": "stream",
     "text": [
      "Epoch 13/50, Loss: 958.1835327148438\n"
     ]
    },
    {
     "name": "stderr",
     "output_type": "stream",
     "text": [
      "/home/ame805/torchHydroNodes/src/modelzoo_concept/exphydro.py:243: UserWarning: To copy construct from a tensor, it is recommended to use sourceTensor.clone().detach() or sourceTensor.clone().detach().requires_grad_(True), rather than torch.tensor(sourceTensor).\n",
      "  \n"
     ]
    }
   ],
   "source": [
    "for basin in tqdm(dataset.basins, disable=cfg.disable_pbar, file=sys.stdout):\n",
    "    # # Skip basins that have already been processed\n",
    "    # if basin in processed_basins:\n",
    "    #     print(f\"Basin {basin} already processed, skipping.\")\n",
    "    #     continue\n",
    "\n",
    "    ds_calib, time_idx0 = get_calibration_dataset(cfg, dataset, basin)\n",
    "    \n",
    "    time_idx0 = 0\n",
    "    model_concept = get_concept_model(cfg, ds_calib, interpolators, time_idx0,\n",
    "                                        dataset.scaler, odesmethod=cfg.odesmethod)\n",
    "    \n",
    "    # Get the input and output sizes\n",
    "    input_size = len(input_vars)\n",
    "    output_size = len(output_vars)\n",
    "    \n",
    "    # Get the parameter bounds\n",
    "    params_bounds = OrderedDict(model_concept.cfg.params_bounds)\n",
    "    \n",
    "    # Crethe PINN model\n",
    "    model_pinn = HydrologyPINN(input_size, output_size, \n",
    "                               hidden_layers=HIDDEN_LAYERS, params_bounds=params_bounds)\n",
    "    optimizer = optim.Adam(model_pinn.parameters(), lr=LR)\n",
    "\n",
    "    # DS to DF\n",
    "    df_calib = ds_calib.to_dataframe()\n",
    "\n",
    "    # Train the model\n",
    "    for epoch in range(EPOCHS):\n",
    "\n",
    "        model_pinn.train()\n",
    "        optimizer.zero_grad()\n",
    "\n",
    "        # Forward pass: Simulate data through the network\n",
    "        input_data = torch.tensor(df_calib[input_vars].values, dtype=torch.float32)\n",
    "        observed_data = torch.tensor(df_calib[output_vars].values, dtype=torch.float32)\n",
    "\n",
    "        predicted_data = model_pinn(input_data)\n",
    "        predicted_params = model_pinn.get_clamped_params()\n",
    "\n",
    "        basin_params = [predicted_params[param] for param in predicted_params.keys()]\n",
    "\n",
    "        # Calculate the loss\n",
    "        loss = pinn_loss(predicted_data, observed_data, basin_params, model_concept, basin)\n",
    "\n",
    "        # Backward pass: Compute the gradient of the loss with respect to model parameters\n",
    "        loss.backward()\n",
    "        optimizer.step()\n",
    "\n",
    "        # Print the loss\n",
    "        print(f\"Epoch {epoch+1}/{EPOCHS}, Loss: {loss.item()}\")"
   ]
  }
 ],
 "metadata": {
  "kernelspec": {
   "display_name": "venv-hydronodes",
   "language": "python",
   "name": "python3"
  },
  "language_info": {
   "codemirror_mode": {
    "name": "ipython",
    "version": 3
   },
   "file_extension": ".py",
   "mimetype": "text/x-python",
   "name": "python",
   "nbconvert_exporter": "python",
   "pygments_lexer": "ipython3",
   "version": "3.12.3"
  }
 },
 "nbformat": 4,
 "nbformat_minor": 2
}
