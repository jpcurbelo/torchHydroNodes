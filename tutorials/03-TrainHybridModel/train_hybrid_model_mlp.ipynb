{
 "cells": [
  {
   "cell_type": "markdown",
   "metadata": {},
   "source": [
    "# Train a hybrid model - MLP\n",
    "\n",
    "In this tutorial, we demonstrate the steps to train a hybrid model using MLP as the Neural Network component. The training data is derived from the pre-processed outputs generated after running the conceptual model. The Hybrid Model is trained to predict $Q$ (runoff) by matching the observed data.\n",
    "\n",
    "**Before we start**\n",
    "\n",
    "- This tutorial is rendered from a Jupyter notebook that is hosted on GitHub. If you'd like to run the code yourself, you can access the notebook and configuration files directly from the repository: [03-TrainHybridModel](https://github.com/jpcurbelo/torchHydroNodes/tree/master/tutorials/03-TrainHybridModel).\n",
    "\n",
    "- To run this notebook locally, ensure you have completed the setup steps outlined in [Getting started](https://torchhydronodes.readthedocs.io/en/latest/usage/getting_started.html). These steps include setting up the environment, installing the required packages, and preparing the data files necessary for the tutorial.\n",
    "\n",
    "- **Dependency on a Previous Tutorial**: Before running this tutorial, you must complete the [01-RunConceptModel Tutorial](https://torchhydronodes.readthedocs.io/en/latest/tutorials/run-concept-model.html). After completing it:\n",
    "\n",
    "    1- Move the generated run folder to ``src/data``.\n",
    "\n",
    "    2- Update the ``data_dir`` field in the ``config_run_train_mlp.yml``  ([here](https://github.com/jpcurbelo/torchHydroNodes/blob/master/tutorials/03-TrainHybridModel/config_run_train_mlp.yml)) file to point to this folder.\n",
    "\n",
    "**IMPORTANT**: While this tutorial uses a file listing 4 basins, it does not demonstrate a multi-basin model. Instead, a single-basin model is run for each basin individually."
   ]
  }
 ],
 "metadata": {
  "language_info": {
   "name": "python"
  }
 },
 "nbformat": 4,
 "nbformat_minor": 2
}
