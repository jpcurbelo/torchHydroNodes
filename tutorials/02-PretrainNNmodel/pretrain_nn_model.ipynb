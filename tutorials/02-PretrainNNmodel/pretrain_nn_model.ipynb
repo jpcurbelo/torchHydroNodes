{
 "cells": [
  {
   "cell_type": "markdown",
   "metadata": {},
   "source": [
    "# Run a conceptual model\n",
    "\n",
    "**Before we start**\n",
    "\n",
    "- This tutorial is rendered from a Jupyter notebook that is hosted on GitHub. If you'd like to run the code yourself, you can access the notebook and configuration files directly from the repository: [02-PretrainNNmodel](https://github.com/torchHydroNodes/torchHydroNodes/tree/master/tutorials/02-RunConceptModel).\n",
    "\n",
    "- To run this notebook locally, ensure you have completed the setup steps outlined in [Getting started](https://torchhydronodes.readthedocs.io/en/latest/usage/getting_started.html). These steps include setting up the environment, installing the required packages, and preparing the data files necessary for the tutorial.\n",
    "\n",
    "- **Dependency on a Previous Tutorial**: Before running this tutorial, you must complete the [01-RunConceptModel Tutorial](https://torchhydronodes.readthedocs.io/en/latest/usage/getting_started.html). After completing it:\n",
    "\n",
    "    1- Move the generated run folder to ``src/data``.\n",
    "\n",
    "    2- Update the ``data_dir`` field in the ``config_run_pretrain.yml`` file to point to this folder.\n",
    "\n",
    "**IMPORTANT**: Although here we use a file listing 4 basins, we do not run a multi-basin model in this Tutorial, instead, we run a single-basin model for each basin."
   ]
  }
 ],
 "metadata": {
  "language_info": {
   "name": "python"
  }
 },
 "nbformat": 4,
 "nbformat_minor": 2
}
